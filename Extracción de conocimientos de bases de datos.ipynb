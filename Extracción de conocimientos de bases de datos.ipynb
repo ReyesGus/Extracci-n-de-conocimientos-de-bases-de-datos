{
  "nbformat": 4,
  "nbformat_minor": 0,
  "metadata": {
    "colab": {
      "name": "Untitled1.ipynb",
      "provenance": [],
      "authorship_tag": "ABX9TyOEIGUjViaTA3jCC6mXdsvP",
      "include_colab_link": true
    },
    "kernelspec": {
      "name": "python3",
      "display_name": "Python 3"
    },
    "language_info": {
      "name": "python"
    }
  },
  "cells": [
    {
      "cell_type": "markdown",
      "metadata": {
        "id": "view-in-github",
        "colab_type": "text"
      },
      "source": [
        "<a href=\"https://colab.research.google.com/github/ReyesGus/Extracci-n-de-conocimientos-de-bases-de-datos/blob/main/Extracci%C3%B3n%20de%20conocimientos%20de%20bases%20de%20datos.ipynb\" target=\"_parent\"><img src=\"https://colab.research.google.com/assets/colab-badge.svg\" alt=\"Open In Colab\"/></a>"
      ]
    },
    {
      "cell_type": "markdown",
      "metadata": {
        "id": "VR5Etz3naXzk"
      },
      "source": [
        "Extracción de conocimientos de bases de datos\n",
        "\n",
        "IDGS91\n",
        "\n",
        "Reyes Romero Gustavo\n",
        "\n",
        "Salvador Hernández Mendoza"
      ]
    },
    {
      "cell_type": "markdown",
      "metadata": {
        "id": "5MxzIrhvaozY"
      },
      "source": [
        "Explore y analice datos con Python.\n",
        "\n",
        "La exploración y el análisis de datos son el núcleo de la ciencia de datos. Los científicos de datos requieren habilidades en lenguajes como Python para explorar, visualizar y manipular datos"
      ]
    },
    {
      "cell_type": "markdown",
      "metadata": {
        "id": "PBhpg67_aswH"
      },
      "source": [
        ""
      ]
    },
    {
      "cell_type": "markdown",
      "metadata": {
        "id": "6XZU_zywaufP"
      },
      "source": [
        "Introducción\n",
        "\n",
        "Como era de esperar, el papel de un científico de datos implica principalmente explorar y analizar datos. Los resultados de un análisis pueden formar la base de un informe o un modelo de aprendizaje automático, pero todo comienza con los datos, siendo Python el lenguaje de programación más popular para los científicos de datos.\n",
        "\n",
        "Después de décadas de desarrollo de código abierto, Python proporciona una amplia funcionalidad con potentes bibliotecas estadísticas y numéricas:\n",
        "\n",
        "NumPy y Pandas simplifican el análisis y la manipulación de datos\n",
        "Matplotlib proporciona visualizaciones de datos atractivas\n",
        "Scikit-learn ofrece un análisis de datos predictivo simple y efectivo\n",
        "TensorFlow y PyTorch ofrecen capacidades de aprendizaje automático y aprendizaje profundo\n",
        "Por lo general, un proyecto de análisis de datos está diseñado para establecer conocimientos sobre un escenario particular o para probar una hipótesis.\n",
        "\n",
        "Por ejemplo, supongamos que un profesor universitario recopila datos de sus estudiantes, incluido el número de conferencias a las que asistieron, las horas dedicadas al estudio y la calificación final obtenida en el examen de fin de trimestre. El profesor podría analizar los datos para determinar si existe una relación entre la cantidad de estudios que realiza un alumno y la nota final que obtiene. El profesor podría usar los datos para probar la hipótesis de que solo los estudiantes que estudian durante un número mínimo de horas pueden esperar obtener una calificación aprobatoria.\n",
        "\n"
      ]
    },
    {
      "cell_type": "markdown",
      "metadata": {
        "id": "RNWJuZ9Oaw2f"
      },
      "source": [
        "Prerrequisitos\n",
        "\n",
        "Conocimiento de mátematicas básicas.\n",
        "\n",
        "Alguna experiencia programando en Python."
      ]
    },
    {
      "cell_type": "markdown",
      "metadata": {
        "id": "F-uw2hima85I"
      },
      "source": [
        "Temario\n",
        "\n",
        "Introducción\n",
        "\n",
        "Explore datos con Numpy y Pandas.\n",
        "\n",
        "Ejercicio: explorar datos con Numpy y Pandas.\n",
        "\n",
        "Visualizar datos.\n",
        "\n",
        "Ejercicio: visualizar datos con Matplotlib.\n",
        "\n",
        "Examinar datos del mundo real.\n",
        "\n",
        "Ejercicio: examinar datos del mundo real.\n",
        "\n",
        "Verificación de conocimientos.\n",
        "Resume"
      ]
    },
    {
      "cell_type": "markdown",
      "metadata": {
        "id": "sZvm15MIbF0q"
      },
      "source": [
        "Objetivos de aprendizaje\n",
        "En este módulo, podrá:\n",
        "\n",
        "Tareas comunes de exploración y análisis de datos.\n",
        "Cómo usar paquetes de Python como NumPy, Pandas y Matplotlib para analizar datos.\n",
        "Explore datos con NumPy y Pandas\n",
        "Los científicos de datos pueden utilizar diversas herramientas y técnicas para explorar, visualizar y manipular datos. Una de las formas más comunes en las que los científicos de datos trabajan con datos es utilizar el lenguaje Python y algunos paquetes específicos para el procesamiento de datos.\n",
        "\n",
        "¿Qué es NumPy?\n",
        "NumPy es una biblioteca de Python que brinda una funcionalidad comparable a las herramientas matemáticas como MATLAB y R. Si bien NumPy simplifica significativamente la experiencia del usuario, también ofrece funciones matemáticas integrales.\n",
        "\n",
        "¿Qué es Pandas?\n",
        "Pandas es una biblioteca de Python extremadamente popular para el análisis y la manipulación de datos. Pandas es como Excel para Python: proporciona una funcionalidad fácil de usar para tablas de datos.\n",
        "\n",
        "\n",
        "Explore datos con un cuaderno Jupyter\n",
        "Los cuadernos de Jupyter son una forma popular de ejecutar scripts básicos con su navegador web. Por lo general, estos cuadernos son una sola página web, dividida en secciones de texto y secciones de código que se ejecutan en el servidor en lugar de en su máquina local. Esto significa que puede comenzar rápidamente sin necesidad de instalar Python u otras herramientas.\n",
        "\n",
        "Prueba de hipotesis\n",
        "La exploración y el análisis de datos suele ser un proceso iterativo , en el que el científico de datos toma una muestra de datos y realiza los siguientes tipos de tareas para analizarlos y probar hipótesis:\n",
        "\n",
        "Limpiar datos para manejar errores, valores perdidos y otros problemas.\n",
        "Aplicar técnicas estadísticas para comprender mejor los datos y cómo se puede esperar que la muestra represente la población de datos del mundo real, lo que permite una variación aleatoria.\n",
        "Visualice los datos para determinar las relaciones entre las variables y, en el caso de un proyecto de aprendizaje automático, identifique las características que son potencialmente predictivas de la etiqueta .\n",
        "Revise la hipótesis y repita el proceso."
      ]
    },
    {
      "cell_type": "markdown",
      "metadata": {
        "id": "eOEktap0bTom"
      },
      "source": [
        "Ejercicio: explorar datos con NumPy y Pandas\n",
        "\n",
        "Explorando datos con Python\n",
        "Una parte importante del rol de un científico de datos es explorar, analizar y visualizar datos. Existe una amplia gama de herramientas y lenguajes de programación que pueden usar para hacer esto; y uno de los enfoques más populares es usar cuadernos de Jupyter (como este) y Python.\n",
        "\n",
        "Python es un lenguaje de programación flexible que se utiliza en una amplia gama de escenarios; desde aplicaciones web hasta programación de dispositivos. Es extremadamente popular en la comunidad de ciencia de datos y aprendizaje automático debido a los muchos paquetes que admite para el análisis y la visualización de datos.\n",
        "\n",
        "En este cuaderno, exploraremos algunos de estos paquetes y aplicaremos técnicas básicas para analizar datos. No se pretende que sea un ejercicio completo de programación de Python; o incluso una inmersión profunda en el análisis de datos. Más bien, está pensado como un curso acelerado sobre algunas de las formas comunes en las que los científicos de datos pueden usar Python para trabajar con datos.\n",
        "\n",
        "Nota: Si nunca antes ha utilizado el entorno de Jupyter Notebooks, hay algunas cosas que debe tener en cuenta:\n",
        "\n",
        "Los cuadernos están formados por células . Algunas celdas (como esta) contienen texto de rebajas , mientras que otras (como la que está debajo de esta) contienen código.\n",
        "Puede ejecutar cada celda de código utilizando el botón ► Ejecutar. el botón ► Ejecutar aparecerá cuando pase el cursor sobre la celda.\n",
        "La salida de cada celda de código se mostrará inmediatamente debajo de la celda.\n",
        "Aunque las celdas de código se pueden ejecutar individualmente, algunas variables utilizadas en el código son globales para el portátil. Eso significa que debe ejecutar todas las celdas de códigoen orden . Puede haber dependencias entre las celdas de código, por lo que si omite una celda, es posible que las celdas siguientes no se ejecuten correctamente.\n",
        "Explorando matrices de datos con NumPy\n",
        "Comencemos mirando algunos datos simples.\n",
        "\n",
        "Suponga que una universidad toma una muestra de las calificaciones de los estudiantes para una clase de ciencia de datos.\n",
        "\n",
        "Ejecute el código en la celda de abajo haciendo clic en el botón ► Ejecutar para ver los datos."
      ]
    },
    {
      "cell_type": "code",
      "metadata": {
        "colab": {
          "base_uri": "https://localhost:8080/"
        },
        "id": "M20SlOsWbVzA",
        "outputId": "4798cdac-aec7-4b1f-a66b-8cea84a9164e"
      },
      "source": [
        "\n",
        "data = [50,50,47,97,49,3,53,42,26,74,82,62,37,15,70,27,36,35,48,52,63,64]\n",
        "print(data)"
      ],
      "execution_count": 1,
      "outputs": [
        {
          "output_type": "stream",
          "name": "stdout",
          "text": [
            "[50, 50, 47, 97, 49, 3, 53, 42, 26, 74, 82, 62, 37, 15, 70, 27, 36, 35, 48, 52, 63, 64]\n"
          ]
        }
      ]
    },
    {
      "cell_type": "markdown",
      "metadata": {
        "id": "qtgwiPEqbcgf"
      },
      "source": [
        "Los datos se han cargado en una estructura de lista de Python, que es un buen tipo de datos para la manipulación de datos en general, pero no está optimizado para el análisis numérico. Para ello, vamos a utilizar el NumPy paquete, que incluye los tipos de datos y funciones específicas para trabajar con numeros en Python.\n",
        "\n",
        "Ejecute la celda a continuación para cargar los datos en una matriz NumPy."
      ]
    },
    {
      "cell_type": "code",
      "metadata": {
        "id": "xk7zjMpKbflg"
      },
      "source": [
        "import numpy as np\n",
        "\n",
        "grades = np.array(data)\n",
        "print(grades)"
      ],
      "execution_count": null,
      "outputs": []
    },
    {
      "cell_type": "markdown",
      "metadata": {
        "id": "tFx7McUSbgSl"
      },
      "source": [
        "En caso de que se esté preguntando acerca de las diferencias entre una lista y una matriz NumPy , comparemos cómo se comportan estos tipos de datos cuando los usamos en una expresión que los multiplica por 2"
      ]
    },
    {
      "cell_type": "code",
      "metadata": {
        "id": "ZG14dAwLbkoo"
      },
      "source": [
        "print (type(data),'x 2:', data * 2)\n",
        "print('---')\n",
        "print (type(grades),'x 2:', grades * 2)"
      ],
      "execution_count": null,
      "outputs": []
    },
    {
      "cell_type": "markdown",
      "metadata": {
        "id": "XiFLX9mdblf-"
      },
      "source": [
        "Tenga en cuenta que multiplicar una lista por 2 crea una nueva lista de dos veces la longitud con la secuencia original de elementos de la lista repetida. Al multiplicar una matriz NumPy, por otro lado, se realiza un cálculo por elementos en el que la matriz se comporta como un vector , por lo que terminamos con una matriz del mismo tamaño en la que cada elemento se ha multiplicado por 2.\n",
        "\n",
        "La conclusión clave de esto es que las matrices NumPy están diseñadas específicamente para admitir operaciones matemáticas en datos numéricos, lo que las hace más útiles para el análisis de datos que una lista genérica.\n",
        "\n",
        "Es posible que haya notado que el tipo de clase para la matriz numpy anterior es un numpy.ndarray . La nd indica que esta es una estructura que puede constar de múltiples dimensiones (puede tener n dimensiones). Nuestra instancia específica tiene una sola dimensión de calificaciones de los estudiantes.\n",
        "\n",
        "Ejecute la celda de abajo para ver la forma de la matriz."
      ]
    },
    {
      "cell_type": "code",
      "metadata": {
        "id": "DYOvVrzebpAm"
      },
      "source": [
        "grades.shape\n"
      ],
      "execution_count": null,
      "outputs": []
    },
    {
      "cell_type": "markdown",
      "metadata": {
        "id": "xbc20ZGCbsMS"
      },
      "source": [
        "Muy bien, ahora que conoce el camino alrededor de una matriz NumPy, es hora de realizar un análisis de los datos de calificaciones.\n",
        "\n",
        "Puede aplicar agregaciones entre los elementos de la matriz, así que busquemos la calificación promedio simple (en otras palabras, el valor medio de la calificación)."
      ]
    },
    {
      "cell_type": "code",
      "metadata": {
        "id": "H-uoTdQwbs2n"
      },
      "source": [
        "grades.mean()\n"
      ],
      "execution_count": null,
      "outputs": []
    },
    {
      "cell_type": "markdown",
      "metadata": {
        "id": "bLEJSFqHbu2n"
      },
      "source": [
        "\n",
        "Entonces, la nota media es de alrededor de 50, más o menos en el medio del rango posible de 0 a 100.\n",
        "\n",
        "Agreguemos un segundo conjunto de datos para los mismos estudiantes, esta vez registrando el número típico de horas por semana que dedicaron a estudiar."
      ]
    },
    {
      "cell_type": "code",
      "metadata": {
        "id": "8mAkwU_2bxV_"
      },
      "source": [
        "#Definicion de matriz de horas estudiadas\n",
        "study_hours = [10.0,11.5,9.0,16.0,9.25,1.0,11.5,9.0,8.5,14.5,15.5,\n",
        "               13.75,9.0,8.0,15.5,8.0,9.0,6.0,10.0,12.0,12.5,12.0]\n",
        "\n",
        "# Creación de una matris NumPy de dos dimensiones (matriz de una matriz)\n",
        "student_data = np.array([study_hours, grades])\n",
        "\n",
        "# Mostrar el arreglo\n",
        "student_data"
      ],
      "execution_count": null,
      "outputs": []
    },
    {
      "cell_type": "markdown",
      "metadata": {
        "id": "KdE92G9QbzRY"
      },
      "source": [
        "Ahora los datos consisten en una matriz bidimensional, una matriz de matrices. Veamos su forma.\n",
        "\n"
      ]
    },
    {
      "cell_type": "code",
      "metadata": {
        "id": "iJrXHyx_b1pA"
      },
      "source": [
        "# Mostrar la forma del arreglo 2D\n",
        "student_data.shape"
      ],
      "execution_count": null,
      "outputs": []
    },
    {
      "cell_type": "markdown",
      "metadata": {
        "id": "qj8sZD7Lb4Vw"
      },
      "source": [
        "La matriz student_data contiene dos elementos, cada uno de los cuales es una matriz que contiene 22 elementos.\n",
        "\n",
        "Para navegar por esta estructura, debe especificar la posición de cada elemento en la jerarquía. Entonces, para encontrar el primer valor en la primera matriz (que contiene los datos de las horas de estudio), puede usar el siguiente código."
      ]
    },
    {
      "cell_type": "code",
      "metadata": {
        "id": "TvPzCK4Ob6nl"
      },
      "source": [
        "# Mostrar el primer elemento del primer elemento\n",
        "student_data[0][0]"
      ],
      "execution_count": null,
      "outputs": []
    },
    {
      "cell_type": "code",
      "metadata": {
        "id": "1ZGu9hX5cAi8"
      },
      "source": [
        "# Obtener el valor de la media de cada submatriz\n",
        "avg_study = student_data[0].mean()\n",
        "avg_grade = student_data[1].mean()\n",
        "\n",
        "print('Average study hours: {:.2f}\\nAverage grade: {:.2f}'.format(avg_study, avg_grade))"
      ],
      "execution_count": null,
      "outputs": []
    }
  ]
}